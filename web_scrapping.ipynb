{
 "cells": [
  {
   "cell_type": "markdown",
   "metadata": {},
   "source": [
    "## Partie 1 : Prise en main Scraping avec BeautifulSoup"
   ]
  },
  {
   "cell_type": "code",
   "execution_count": 1,
   "metadata": {},
   "outputs": [
    {
     "name": "stdout",
     "output_type": "stream",
     "text": [
      "Requirement already satisfied: beautifulsoup4 in c:\\users\\raux familly\\appdata\\local\\programs\\python\\python312\\lib\\site-packages (4.12.3)\n",
      "Requirement already satisfied: soupsieve>1.2 in c:\\users\\raux familly\\appdata\\local\\programs\\python\\python312\\lib\\site-packages (from beautifulsoup4) (2.6)\n",
      "Note: you may need to restart the kernel to use updated packages.\n"
     ]
    },
    {
     "name": "stderr",
     "output_type": "stream",
     "text": [
      "\n",
      "[notice] A new release of pip is available: 24.0 -> 24.2\n",
      "[notice] To update, run: python.exe -m pip install --upgrade pip\n"
     ]
    }
   ],
   "source": [
    "pip install beautifulsoup4"
   ]
  },
  {
   "cell_type": "code",
   "execution_count": 2,
   "metadata": {},
   "outputs": [],
   "source": [
    "import requests\n",
    "\n",
    "from bs4 import BeautifulSoup\n",
    "\n",
    "url = \"https://www.basketball-reference.com/leagues/NBA_2022_per_game.html\"\n",
    "page = requests.get(url)\n",
    "soup = BeautifulSoup(page.content, 'html.parser')"
   ]
  },
  {
   "cell_type": "code",
   "execution_count": 15,
   "metadata": {},
   "outputs": [],
   "source": [
    "players_bs = soup.find_all('div', class_='switcher_content')\n",
    "\n",
    "name = []\n",
    "age = []\n",
    "team = []\n",
    "pos = []\n",
    "g = []\n",
    "gs = []\n",
    "mp = []\n",
    "fg = []\n",
    "fga = []\n",
    "'fg%' = []\n",
    "'3p' = []\n",
    "'3pa' = []\n",
    "'3p%' = []\n",
    "'2p' = []\n",
    "'2pa' = []\n",
    "'2p%' = []\n",
    "'efg%' = []\n",
    "ft = []\n",
    "fta = []\n",
    "'ft%' = []\n",
    "orb = []\n",
    "drb = []\n",
    "trb = []\n",
    "ast = []\n",
    "stl = []\n",
    "blk = []\n",
    "tov = []\n",
    "pf = []\n",
    "pts = []\n",
    "\n",
    "for player in players_bs:\n",
    "    name.append(player.find('td', {'data-stat':'name_display'}).get_text())\n",
    "    age.append(player.find('td', {'data-stat':'age'}).get_text())\n",
    "    team.append(player.find('td', {'data-stat':'team_name_abbr'}).get_text())\n",
    "    pos.append(player.find('td', {'data-stat':'pos'}).get_text())\n",
    "    g.append(player.find('td', {'data-stat':'games'}).get_text())\n",
    "    gs.append(player.find('td', {'data-stat':'games_started'}).get_text())\n",
    "    mp.append(player.find('td', {'data-stat':'mp_per_g'}).get_text())\n",
    "    fg.append(player.find('td', {'data-stat':'fg_per_g'}).get_text())\n",
    "    fga.append(player.find('td', {'data-stat':'fga_per_g'}).get_text())\n",
    "    'fg%'.append(player.find('td', {'data-stat':'fg_pct'}).get_text())\n",
    "    '3p'.append(player.find('td', {'data-stat':'fg3_per_g'}).get_text())\n",
    "    g.append(player.find('td', {'data-stat':'fg_per_g'}).get_text())\n",
    "    g.append(player.find('td', {'data-stat':'fg_per_g'}).get_text())"
   ]
  },
  {
   "cell_type": "code",
   "execution_count": 14,
   "metadata": {},
   "outputs": [
    {
     "ename": "NameError",
     "evalue": "name 'player' is not defined",
     "output_type": "error",
     "traceback": [
      "\u001b[1;31m---------------------------------------------------------------------------\u001b[0m",
      "\u001b[1;31mNameError\u001b[0m                                 Traceback (most recent call last)",
      "Cell \u001b[1;32mIn[14], line 1\u001b[0m\n\u001b[1;32m----> 1\u001b[0m \u001b[38;5;28mprint\u001b[39m(\u001b[43mplayer\u001b[49m)\n",
      "\u001b[1;31mNameError\u001b[0m: name 'player' is not defined"
     ]
    }
   ],
   "source": []
  },
  {
   "cell_type": "code",
   "execution_count": null,
   "metadata": {},
   "outputs": [],
   "source": []
  }
 ],
 "metadata": {
  "kernelspec": {
   "display_name": "Python 3",
   "language": "python",
   "name": "python3"
  },
  "language_info": {
   "codemirror_mode": {
    "name": "ipython",
    "version": 3
   },
   "file_extension": ".py",
   "mimetype": "text/x-python",
   "name": "python",
   "nbconvert_exporter": "python",
   "pygments_lexer": "ipython3",
   "version": "3.12.2"
  }
 },
 "nbformat": 4,
 "nbformat_minor": 2
}
